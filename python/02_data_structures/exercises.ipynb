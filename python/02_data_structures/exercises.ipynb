{
 "metadata": {
  "name": "exercises"
 },
 "nbformat": 3,
 "nbformat_minor": 0,
 "worksheets": [
  {
   "cells": [
    {
     "cell_type": "markdown",
     "metadata": {},
     "source": [
      "# Exercise 1\n",
      "\n",
      "1. Calculate the mean of the numbers 2, 3, and 10 (using methods available in list to sum and count number of elements)."
     ]
    },
    {
     "cell_type": "code",
     "collapsed": true,
     "input": [
      "x=[2,3,11]\n",
      "import numpy\n",
      "numpy.mean(x)\n",
      "print \"ohh\"\n",
      "float(sum(x))/len(x)"
     ],
     "language": "python",
     "metadata": {},
     "outputs": [
      {
       "output_type": "stream",
       "stream": "stdout",
       "text": [
        "ohh\n"
       ]
      },
      {
       "output_type": "pyout",
       "prompt_number": 32,
       "text": [
        "5.333333333333333"
       ]
      }
     ],
     "prompt_number": 32
    },
    {
     "cell_type": "markdown",
     "metadata": {},
     "source": [
      "# Exercise 2\n",
      "\n",
      "1. Make a list with 5 things in it."
     ]
    },
    {
     "cell_type": "code",
     "collapsed": true,
     "input": [
      "x=[1,2,3,4,5]\n",
      "\n",
      "long_list=5*[1]\n",
      "print long_list"
     ],
     "language": "python",
     "metadata": {},
     "outputs": [
      {
       "output_type": "stream",
       "stream": "stdout",
       "text": [
        "[1, 1, 1, 1, 1]\n"
       ]
      }
     ],
     "prompt_number": 34
    },
    {
     "cell_type": "markdown",
     "metadata": {},
     "source": [
      "2. Add two more things."
     ]
    },
    {
     "cell_type": "code",
     "collapsed": true,
     "input": [
      "x.extend([6,7])\n",
      "print x"
     ],
     "language": "python",
     "metadata": {},
     "outputs": [
      {
       "output_type": "stream",
       "stream": "stdout",
       "text": [
        "[1, 2, 3, 4, 5, 6, 7]\n"
       ]
      }
     ],
     "prompt_number": 14
    },
    {
     "cell_type": "markdown",
     "metadata": {},
     "source": [
      "# Exercise 2\n",
      "\n",
      "1. Make a dictionary whose keys are the strings \"zero\" through \"nine\" and whose values are ints 0 through 9."
     ]
    },
    {
     "cell_type": "code",
     "collapsed": true,
     "input": [
      "digitsdict = {\"zero\":0 ,\\\n",
      "              \"uno\": 1, \"dos\": 2, \"tres\": 3, \"cuatro\": 4, \"cinco\": 5, \"seis\": 6, \"siete\": 7, \"ocho\": 8, \"nueve\": 9}\n",
      "\n",
      "#  Your code goes here\n",
      "print digitsdict\n",
      "digitsdict['cuatro']"
     ],
     "language": "python",
     "metadata": {},
     "outputs": [
      {
       "output_type": "stream",
       "stream": "stdout",
       "text": [
        "{'cuatro': 4, 'cinco': 5, 'zero': 0, 'siete': 7, 'nueve': 9, 'dos': 2, 'tres': 3, 'seis': 6, 'ocho': 8, 'uno': 1}\n"
       ]
      },
      {
       "output_type": "pyout",
       "prompt_number": 17,
       "text": [
        "4"
       ]
      }
     ],
     "prompt_number": 17
    },
    {
     "cell_type": "markdown",
     "metadata": {},
     "source": [
      "# Exercise 3\n",
      "\n",
      "1. Make a dictionary and experiment using different types as keys. Can containers be keys?"
     ]
    },
    {
     "cell_type": "code",
     "collapsed": true,
     "input": [
      "digitsdict2 = {\"zero\":0 ,\\\n",
      "              \"uno\": 1, 24: 2, \"tres\": 3, 2137.897: 4, \"cinco\": 5, (3,6): 6, \"siete\": 7, \"ocho\": 8, \"nueve\": 9}\n",
      "digitsdict2[24], digitsdict2[(3,6)]"
     ],
     "language": "python",
     "metadata": {},
     "outputs": [
      {
       "output_type": "pyout",
       "prompt_number": 36,
       "text": [
        "(2, 6)"
       ]
      }
     ],
     "prompt_number": 36
    },
    {
     "cell_type": "markdown",
     "metadata": {},
     "source": [
      "# Exercises 4\n",
      "\n",
      "1. Write an if statement that prints whether x is even or odd"
     ]
    },
    {
     "cell_type": "code",
     "collapsed": true,
     "input": [
      "x=4\n",
      "\n",
      "print x\n",
      "\n",
      "if x%2==0:\n",
      "\n",
      "  print \"x is par\"\n",
      "\n",
      "else: \n",
      "\n",
      "  print \"x is not par!\""
     ],
     "language": "python",
     "metadata": {},
     "outputs": [
      {
       "output_type": "stream",
       "stream": "stdout",
       "text": [
        "4\n",
        "x is par\n"
       ]
      }
     ],
     "prompt_number": 23
    },
    {
     "cell_type": "markdown",
     "metadata": {},
     "source": [
      "# Exercises 5\n",
      "\n",
      "1. Using a loop, calculate the factorial of 42 (the product of all integers up to and including 42)."
     ]
    },
    {
     "cell_type": "code",
     "collapsed": true,
     "input": [
      "x=1;   \n",
      "for i in range(1, 42):\n",
      "    x=x*i\n",
      "print x    "
     ],
     "language": "python",
     "metadata": {},
     "outputs": [
      {
       "output_type": "stream",
       "stream": "stdout",
       "text": [
        "33452526613163807108170062053440751665152000000000\n"
       ]
      }
     ],
     "prompt_number": 24
    },
    {
     "cell_type": "markdown",
     "metadata": {},
     "source": [
      "# Exercises 6\n",
      "\n",
      "1. Create a function that returns the factorial of a given number."
     ]
    },
    {
     "cell_type": "code",
     "collapsed": true,
     "input": [
      "def factorial(num):\n",
      "    \"Get the factorial of *num*\"\n",
      "    x=1;   \n",
      "    for i in range(1, num):\n",
      "        x=x*i\n",
      "    print x \n",
      "    \n",
      "factorial(42)"
     ],
     "language": "python",
     "metadata": {},
     "outputs": [
      {
       "output_type": "stream",
       "stream": "stdout",
       "text": [
        "33452526613163807108170062053440751665152000000000\n"
       ]
      }
     ],
     "prompt_number": 27
    },
    {
     "cell_type": "markdown",
     "metadata": {},
     "source": [
      "# Exercise 7\n",
      "\n",
      "7A. Read the file 'animals.txt' and print each line and the length of each line."
     ]
    },
    {
     "cell_type": "code",
     "collapsed": true,
     "input": [
      "f = open(\"animals.txt\")\n",
      "ivdata = f.readlines()\n",
      "f.close()\n",
      "\n",
      "lenFile=len(ivdata)\n",
      "for i in range(1, lenFile):\n",
      "    print ivdata[i]  "
     ],
     "language": "python",
     "metadata": {},
     "outputs": [
      {
       "output_type": "stream",
       "stream": "stdout",
       "text": [
        "2011-04-23 18:32 Moose 13\n",
        "\n",
        "2011-04-24 22:38 Wolverine 42\n",
        "\n",
        "2011-04-25 19:19 Owl 5\n",
        "\n",
        "2011-04-26 05:46 Elk 9\n",
        "\n"
       ]
      }
     ],
     "prompt_number": 30
    },
    {
     "cell_type": "markdown",
     "metadata": {},
     "source": [
      " 7B. Read the file 'big_animals.txt' again and print each line where the number of animals sighted is greater than 10.  We won't output the lines with fewer than 10 animals."
     ]
    },
    {
     "cell_type": "code",
     "collapsed": true,
     "input": [],
     "language": "python",
     "metadata": {},
     "outputs": [],
     "prompt_number": "&nbsp;"
    },
    {
     "cell_type": "markdown",
     "metadata": {},
     "source": [
      "7C. Read the file 'big_animals.txt' again and return a list of tuples (one per line) with animal name and number of sights."
     ]
    },
    {
     "cell_type": "code",
     "collapsed": true,
     "input": [],
     "language": "python",
     "metadata": {},
     "outputs": [],
     "prompt_number": "&nbsp;"
    },
    {
     "cell_type": "markdown",
     "metadata": {},
     "source": [
      "7D. Turn the code for 7C into a function and use it on the files 'merida_animals.txt' and 'fergus_animals.txt'. (Optional, you will learn how to define your own functions in Lesson 4)"
     ]
    },
    {
     "cell_type": "code",
     "collapsed": true,
     "input": [
      " "
     ],
     "language": "python",
     "metadata": {},
     "outputs": [],
     "prompt_number": "&nbsp;"
    },
    {
     "cell_type": "markdown",
     "metadata": {},
     "source": [
      "# Exercise 8\n",
      "\n",
      "1.  Check your answer to Exercise 5 (the value of 42!) using the **math.gamma()** function."
     ]
    },
    {
     "cell_type": "code",
     "collapsed": true,
     "input": [
      "import math"
     ],
     "language": "python",
     "metadata": {},
     "outputs": [],
     "prompt_number": "&nbsp;"
    }
   ],
   "metadata": {}
  }
 ]
}